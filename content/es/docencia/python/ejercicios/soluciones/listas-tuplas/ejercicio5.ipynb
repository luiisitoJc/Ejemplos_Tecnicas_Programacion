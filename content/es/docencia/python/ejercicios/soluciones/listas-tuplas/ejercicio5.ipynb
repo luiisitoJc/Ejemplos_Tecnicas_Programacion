{
  "cells": [
    {
      "cell_type": "markdown",
      "metadata": {
        "id": "r40bopSblN6p"
      },
      "source": [
        "## Ejercicio\n",
        "\n",
        "Escribir un programa que almacene en una lista los números del 1 al 10 y los muestre por pantalla en orden inverso separados por comas."
      ]
    },
    {
      "cell_type": "markdown",
      "metadata": {
        "id": "ebIOBCwxlN6q"
      },
      "source": [
        "## Solución 1"
      ]
    },
    {
      "cell_type": "code",
      "execution_count": 1,
      "metadata": {
        "id": "9SLx9_PSlN6r",
        "outputId": "6150ffbc-3230-40f9-f5e2-3f01de0a4d54",
        "colab": {
          "base_uri": "https://localhost:8080/"
        }
      },
      "outputs": [
        {
          "output_type": "stream",
          "name": "stdout",
          "text": [
            "Los números en orden inverso son: 10, 9, 8, 7, 6, 5, 4, 3, 2, 1\n"
          ]
        }
      ],
      "source": [
        "# Crear lista con números del 1 al 10\n",
        "numeros = list(range(1, 11))\n",
        "\n",
        "# Mostrar números en orden inverso\n",
        "print(\"Los números en orden inverso son:\", end=\" \")\n",
        "for i in range(len(numeros)-1, -1, -1):\n",
        "    if i != 0:\n",
        "        print(numeros[i], end=\", \")\n",
        "    else:\n",
        "        print(numeros[i])"
      ]
    },
    {
      "cell_type": "markdown",
      "metadata": {
        "id": "ETNCFDQZlN6s"
      },
      "source": [
        "## Solución 2"
      ]
    },
    {
      "cell_type": "code",
      "execution_count": null,
      "metadata": {
        "id": "3lcr50GalN6s",
        "outputId": "61dfce77-5876-4c24-aeaf-00ce082e0ec3"
      },
      "outputs": [
        {
          "name": "stdout",
          "output_type": "stream",
          "text": [
            "10, 9, 8, 7, 6, 5, 4, 3, 2, 1, "
          ]
        }
      ],
      "source": [
        "numbers = [1, 2, 3, 4, 5, 6, 7, 8, 9, 10]\n",
        "numbers.reverse()\n",
        "for number in numbers:\n",
        "    print(number, end=\", \")\n"
      ]
    }
  ],
  "metadata": {
    "kernelspec": {
      "display_name": "Python 3",
      "language": "python",
      "name": "python3"
    },
    "language_info": {
      "codemirror_mode": {
        "name": "ipython",
        "version": 3
      },
      "file_extension": ".py",
      "mimetype": "text/x-python",
      "name": "python",
      "nbconvert_exporter": "python",
      "pygments_lexer": "ipython3",
      "version": "3.7.1"
    },
    "colab": {
      "provenance": []
    }
  },
  "nbformat": 4,
  "nbformat_minor": 0
}