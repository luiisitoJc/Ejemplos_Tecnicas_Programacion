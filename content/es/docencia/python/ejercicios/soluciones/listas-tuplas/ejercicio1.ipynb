{
  "cells": [
    {
      "cell_type": "markdown",
      "metadata": {
        "id": "4_p6KIZZf_j5"
      },
      "source": [
        "## Ejercicio\n",
        "\n",
        "Escribir un programa que almacene las asignaturas de un curso (por ejemplo Matemáticas, Física, Química, Historia y Lengua) en una lista y la muestre por pantalla."
      ]
    },
    {
      "cell_type": "markdown",
      "metadata": {
        "id": "7TPQTdCuf_j6"
      },
      "source": [
        "## Solución"
      ]
    },
    {
      "cell_type": "code",
      "execution_count": 2,
      "metadata": {
        "id": "yA_hDycef_j7",
        "outputId": "dd879866-02e8-4b5a-9066-51d069e0ac2f",
        "colab": {
          "base_uri": "https://localhost:8080/"
        }
      },
      "outputs": [
        {
          "output_type": "stream",
          "name": "stdout",
          "text": [
            "Las asignaturas del curso son:\n",
            "Matemáticas\n",
            "Física\n",
            "Química\n",
            "Historia\n",
            "Lengua\n"
          ]
        }
      ],
      "source": [
        "# Crear una lista con las asignaturas\n",
        "asignaturas = [\"Matemáticas\", \"Física\", \"Química\", \"Historia\", \"Lengua\"]\n",
        "\n",
        "# Mostrar las asignaturas por pantalla\n",
        "print(\"Las asignaturas del curso son:\")\n",
        "for asignatura in asignaturas:\n",
        "    print(asignatura)"
      ]
    }
  ],
  "metadata": {
    "kernelspec": {
      "display_name": "Python 3",
      "language": "python",
      "name": "python3"
    },
    "language_info": {
      "codemirror_mode": {
        "name": "ipython",
        "version": 3
      },
      "file_extension": ".py",
      "mimetype": "text/x-python",
      "name": "python",
      "nbconvert_exporter": "python",
      "pygments_lexer": "ipython3",
      "version": "3.7.1"
    },
    "colab": {
      "provenance": []
    }
  },
  "nbformat": 4,
  "nbformat_minor": 0
}