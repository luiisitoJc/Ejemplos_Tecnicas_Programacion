{
  "cells": [
    {
      "cell_type": "markdown",
      "metadata": {
        "id": "j3r20basgzqC"
      },
      "source": [
        "## Ejercicio\n",
        "\n",
        "Escribir un programa que almacene las asignaturas de un curso (por ejemplo Matemáticas, Física, Química, Historia y Lengua) en una lista y la muestre por pantalla."
      ]
    },
    {
      "cell_type": "markdown",
      "metadata": {
        "id": "dUBGVklRgzqE"
      },
      "source": [
        "## Solución"
      ]
    },
    {
      "cell_type": "code",
      "execution_count": 1,
      "metadata": {
        "id": "3Jx079QkgzqF",
        "outputId": "02cd7a57-07f1-4edb-87da-85a011386066",
        "colab": {
          "base_uri": "https://localhost:8080/"
        }
      },
      "outputs": [
        {
          "output_type": "stream",
          "name": "stdout",
          "text": [
            "¿Qué nota has sacado en Matemáticas? 8\n",
            "¿Qué nota has sacado en Física? 7\n",
            "¿Qué nota has sacado en Química? 8\n",
            "¿Qué nota has sacado en Historia? 6\n",
            "¿Qué nota has sacado en Lengua? 9\n",
            "\n",
            "Tus notas son:\n",
            "En Matemáticas has sacado 8.0\n",
            "En Física has sacado 7.0\n",
            "En Química has sacado 8.0\n",
            "En Historia has sacado 6.0\n",
            "En Lengua has sacado 9.0\n"
          ]
        }
      ],
      "source": [
        "# Crear una lista con las asignaturas\n",
        "asignaturas = [\"Matemáticas\", \"Física\", \"Química\", \"Historia\", \"Lengua\"]\n",
        "\n",
        "# Crear una lista para almacenar las notas\n",
        "notas = []\n",
        "\n",
        "# Pedir al usuario las notas de cada asignatura\n",
        "for asignatura in asignaturas:\n",
        "    nota = float(input(f\"¿Qué nota has sacado en {asignatura}? \"))\n",
        "    notas.append(nota)\n",
        "\n",
        "# Mostrar las asignaturas y las notas\n",
        "print(\"\\nTus notas son:\")\n",
        "for i in range(len(asignaturas)):\n",
        "    print(f\"En {asignaturas[i]} has sacado {notas[i]}\")"
      ]
    }
  ],
  "metadata": {
    "kernelspec": {
      "display_name": "Python 3",
      "language": "python",
      "name": "python3"
    },
    "language_info": {
      "codemirror_mode": {
        "name": "ipython",
        "version": 3
      },
      "file_extension": ".py",
      "mimetype": "text/x-python",
      "name": "python",
      "nbconvert_exporter": "python",
      "pygments_lexer": "ipython3",
      "version": "3.7.1"
    },
    "colab": {
      "provenance": []
    }
  },
  "nbformat": 4,
  "nbformat_minor": 0
}