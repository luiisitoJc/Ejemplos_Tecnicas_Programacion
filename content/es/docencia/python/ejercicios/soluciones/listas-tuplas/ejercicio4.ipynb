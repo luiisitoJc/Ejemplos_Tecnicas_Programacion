{
  "cells": [
    {
      "cell_type": "markdown",
      "metadata": {
        "id": "cs_juRH8kmxx"
      },
      "source": [
        "## Ejercicio\n",
        "\n",
        "Escribir un programa que pregunte al usuario los números ganadores de la lotería primitiva, los almacene en una lista y los muestre por pantalla ordenados de menor a mayor."
      ]
    },
    {
      "cell_type": "markdown",
      "metadata": {
        "id": "38EWURP-kmx0"
      },
      "source": [
        "## Solución 1"
      ]
    },
    {
      "cell_type": "code",
      "execution_count": 1,
      "metadata": {
        "id": "uqPTfOQikmx0",
        "outputId": "57093a17-9a08-4299-c8d3-50fe0619991e",
        "colab": {
          "base_uri": "https://localhost:8080/"
        }
      },
      "outputs": [
        {
          "output_type": "stream",
          "name": "stdout",
          "text": [
            "Introduce los 6 números ganadores de la lotería primitiva:\n",
            "Introduce el número 1: 40\n",
            "Introduce el número 2: 20\n",
            "Introduce el número 3: 15\n",
            "Introduce el número 4: 5\n",
            "Introduce el número 5: 25\n",
            "Introduce el número 6: 7\n",
            "\n",
            "Los números ganadores ordenados son: 5 7 15 20 25 40 "
          ]
        }
      ],
      "source": [
        "# Crear una lista vacía para los números\n",
        "numeros_ganadores = []\n",
        "\n",
        "# Pedir los 6 números de la lotería primitiva\n",
        "print(\"Introduce los 6 números ganadores de la lotería primitiva:\")\n",
        "for i in range(6):\n",
        "    while True:\n",
        "        try:\n",
        "            numero = int(input(f\"Introduce el número {i+1}: \"))\n",
        "            # Verificar que el número está entre 1 y 49\n",
        "            if 1 <= numero <= 49:\n",
        "                numeros_ganadores.append(numero)\n",
        "                break\n",
        "            else:\n",
        "                print(\"El número debe estar entre 1 y 49. Inténtalo de nuevo.\")\n",
        "        except ValueError:\n",
        "            print(\"Por favor, introduce un número válido.\")\n",
        "\n",
        "# Ordenar la lista de menor a mayor\n",
        "numeros_ganadores.sort()\n",
        "\n",
        "# Mostrar los números ordenados\n",
        "print(\"\\nLos números ganadores ordenados son:\", end=\" \")\n",
        "for numero in numeros_ganadores:\n",
        "    print(numero, end=\" \")"
      ]
    }
  ],
  "metadata": {
    "kernelspec": {
      "display_name": "Python 3",
      "language": "python",
      "name": "python3"
    },
    "language_info": {
      "codemirror_mode": {
        "name": "ipython",
        "version": 3
      },
      "file_extension": ".py",
      "mimetype": "text/x-python",
      "name": "python",
      "nbconvert_exporter": "python",
      "pygments_lexer": "ipython3",
      "version": "3.7.1"
    },
    "colab": {
      "provenance": []
    }
  },
  "nbformat": 4,
  "nbformat_minor": 0
}