{
  "cells": [
    {
      "cell_type": "markdown",
      "metadata": {
        "id": "sq5XHb7dghdH"
      },
      "source": [
        "## Ejercicio\n",
        "\n",
        "Escribir un programa que almacene las asignaturas de un curso (por ejemplo Matemáticas, Física, Química, Historia y Lengua) en una lista y la muestre por pantalla."
      ]
    },
    {
      "cell_type": "markdown",
      "metadata": {
        "id": "Wr4s0pnSghdI"
      },
      "source": [
        "## Solución"
      ]
    },
    {
      "cell_type": "code",
      "execution_count": 1,
      "metadata": {
        "id": "TPYUmRWtghdJ",
        "outputId": "1336f496-db49-4f9f-a686-a47735370ecd",
        "colab": {
          "base_uri": "https://localhost:8080/"
        }
      },
      "outputs": [
        {
          "output_type": "stream",
          "name": "stdout",
          "text": [
            "Yo estudio Matemáticas\n",
            "Yo estudio Física\n",
            "Yo estudio Química\n",
            "Yo estudio Historia\n",
            "Yo estudio Lengua\n"
          ]
        }
      ],
      "source": [
        "# Crear una lista con las asignaturas\n",
        "asignaturas = [\"Matemáticas\", \"Física\", \"Química\", \"Historia\", \"Lengua\"]\n",
        "\n",
        "# Mostrar el mensaje para cada asignatura\n",
        "for asignatura in asignaturas:\n",
        "    print(f\"Yo estudio {asignatura}\")"
      ]
    }
  ],
  "metadata": {
    "kernelspec": {
      "display_name": "Python 3",
      "language": "python",
      "name": "python3"
    },
    "language_info": {
      "codemirror_mode": {
        "name": "ipython",
        "version": 3
      },
      "file_extension": ".py",
      "mimetype": "text/x-python",
      "name": "python",
      "nbconvert_exporter": "python",
      "pygments_lexer": "ipython3",
      "version": "3.7.1"
    },
    "colab": {
      "provenance": []
    }
  },
  "nbformat": 4,
  "nbformat_minor": 0
}